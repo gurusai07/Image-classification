{
  "nbformat": 4,
  "nbformat_minor": 0,
  "metadata": {
    "colab": {
      "name": "minorproject.ipynb",
      "provenance": [],
      "authorship_tag": "ABX9TyPs3RpcZUlDA8fpLusnVNs7",
      "include_colab_link": true
    },
    "kernelspec": {
      "name": "python3",
      "display_name": "Python 3"
    },
    "language_info": {
      "name": "python"
    }
  },
  "cells": [
    {
      "cell_type": "markdown",
      "metadata": {
        "id": "view-in-github",
        "colab_type": "text"
      },
      "source": [
        "<a href=\"https://colab.research.google.com/github/gurusai07/Image-classification/blob/main/minorproject.ipynb\" target=\"_parent\"><img src=\"https://colab.research.google.com/assets/colab-badge.svg\" alt=\"Open In Colab\"/></a>"
      ]
    },
    {
      "cell_type": "code",
      "metadata": {
        "colab": {
          "base_uri": "https://localhost:8080/"
        },
        "id": "Fl1IOgrls5At",
        "outputId": "46f10fa9-e38e-4a3b-fd61-0a8f63a72ef5"
      },
      "source": [
        "!pip install bing-image-downloader\n"
      ],
      "execution_count": 1,
      "outputs": [
        {
          "output_type": "stream",
          "text": [
            "Collecting bing-image-downloader\n",
            "  Downloading https://files.pythonhosted.org/packages/0d/bf/537a61030b84ae4cd5022d5c7b014fd9bc3ce7c02358919153a6658a61d3/bing_image_downloader-1.0.4-py3-none-any.whl\n",
            "Installing collected packages: bing-image-downloader\n",
            "Successfully installed bing-image-downloader-1.0.4\n"
          ],
          "name": "stdout"
        }
      ]
    },
    {
      "cell_type": "code",
      "metadata": {
        "id": "vVg3QDFGtFt8"
      },
      "source": [
        "!mkdir images"
      ],
      "execution_count": 2,
      "outputs": []
    },
    {
      "cell_type": "code",
      "metadata": {
        "colab": {
          "base_uri": "https://localhost:8080/"
        },
        "id": "EYQlSpiPtJGK",
        "outputId": "bcd349c9-0d0b-44f9-ce28-5d32715f5dd1"
      },
      "source": [
        "from bing_image_downloader import downloader\n",
        "downloader.download(\"cricket bats\",limit=30,output_dir='images',adult_filter_off=True)"
      ],
      "execution_count": 3,
      "outputs": [
        {
          "output_type": "stream",
          "text": [
            "\n",
            "\n",
            "[!!]Indexing page: 1\n",
            "\n",
            "[%] Indexed 12 Images on Page 1.\n",
            "\n",
            "===============================================\n",
            "\n",
            "[%] Downloading Image #1 from https://i.ytimg.com/vi/sGxGbSoZq88/maxresdefault.jpg\n",
            "[%] File Downloaded !\n",
            "\n",
            "[%] Downloading Image #2 from https://i.ytimg.com/vi/L6p9n2hDeS8/maxresdefault.jpg\n",
            "[%] File Downloaded !\n",
            "\n",
            "[%] Downloading Image #3 from https://n2.sdlcdn.com/imgs/d/l/q/CSM-Super-500-Full-Size-SDL999932512-1-dcd8c.JPG\n",
            "[%] File Downloaded !\n",
            "\n",
            "[%] Downloading Image #4 from https://qph.fs.quoracdn.net/main-qimg-4df17e5d5fcbcab4e51a02b632442b84\n",
            "[%] File Downloaded !\n",
            "\n",
            "[%] Downloading Image #5 from https://n2.sdlcdn.com/imgs/i/z/e/Ceat-Full-Size-Popular-Willow-SDL615459276-1-dde9b.jpg\n",
            "[%] File Downloaded !\n",
            "\n",
            "[%] Downloading Image #6 from https://i.ytimg.com/vi/cMfc2d-yPw4/maxresdefault.jpg\n",
            "[%] File Downloaded !\n",
            "\n",
            "[%] Downloading Image #7 from https://i.ytimg.com/vi/wI7u7UH0Zqs/maxresdefault.jpg\n",
            "[%] File Downloaded !\n",
            "\n",
            "[%] Downloading Image #8 from http://im.rediff.com/cricket/2016/jan/29virat-kohli.jpg\n",
            "[%] File Downloaded !\n",
            "\n",
            "[%] Downloading Image #9 from http://wallpaperheart.com/wp-content/uploads/2018/03/Cricket-wallpapers-phil-hughes-putoutyourbats-horizontal-large-gallery.jpg\n",
            "[%] File Downloaded !\n",
            "\n",
            "[%] Downloading Image #10 from http://www.khelmart.com/Cricket/zoomer_Image/SS_KB_0004_M_large_2.jpg\n",
            "[%] File Downloaded !\n",
            "\n",
            "[%] Downloading Image #11 from http://www.rulesofsport.com/images/jreviews/tn/tn_8_cricket-1344618904.jpg\n",
            "[%] File Downloaded !\n",
            "\n",
            "[%] Downloading Image #12 from http://www.cricketweb.net/news/photos/0420060610195444.jpg\n",
            "[%] File Downloaded !\n",
            "\n",
            "\n",
            "\n",
            "[!!]Indexing page: 2\n",
            "\n",
            "[%] Indexed 12 Images on Page 2.\n",
            "\n",
            "===============================================\n",
            "\n",
            "[%] Downloading Image #13 from https://i.ytimg.com/vi/sGxGbSoZq88/maxresdefault.jpg\n",
            "[%] File Downloaded !\n",
            "\n",
            "[%] Downloading Image #14 from https://i.ytimg.com/vi/L6p9n2hDeS8/maxresdefault.jpg\n",
            "[%] File Downloaded !\n",
            "\n",
            "[%] Downloading Image #15 from https://n2.sdlcdn.com/imgs/d/l/q/CSM-Super-500-Full-Size-SDL999932512-1-dcd8c.JPG\n",
            "[%] File Downloaded !\n",
            "\n",
            "[%] Downloading Image #16 from https://qph.fs.quoracdn.net/main-qimg-4df17e5d5fcbcab4e51a02b632442b84\n",
            "[%] File Downloaded !\n",
            "\n",
            "[%] Downloading Image #17 from https://n2.sdlcdn.com/imgs/i/z/e/Ceat-Full-Size-Popular-Willow-SDL615459276-1-dde9b.jpg\n",
            "[%] File Downloaded !\n",
            "\n",
            "[%] Downloading Image #18 from https://i.ytimg.com/vi/cMfc2d-yPw4/maxresdefault.jpg\n",
            "[%] File Downloaded !\n",
            "\n",
            "[%] Downloading Image #19 from https://i.ytimg.com/vi/wI7u7UH0Zqs/maxresdefault.jpg\n",
            "[%] File Downloaded !\n",
            "\n",
            "[%] Downloading Image #20 from http://im.rediff.com/cricket/2016/jan/29virat-kohli.jpg\n",
            "[%] File Downloaded !\n",
            "\n",
            "[%] Downloading Image #21 from http://wallpaperheart.com/wp-content/uploads/2018/03/Cricket-wallpapers-phil-hughes-putoutyourbats-horizontal-large-gallery.jpg\n",
            "[%] File Downloaded !\n",
            "\n",
            "[%] Downloading Image #22 from http://www.khelmart.com/Cricket/zoomer_Image/SS_KB_0004_M_large_2.jpg\n",
            "[%] File Downloaded !\n",
            "\n",
            "[%] Downloading Image #23 from http://www.rulesofsport.com/images/jreviews/tn/tn_8_cricket-1344618904.jpg\n",
            "[%] File Downloaded !\n",
            "\n",
            "[%] Downloading Image #24 from http://www.cricketweb.net/news/photos/0420060610195444.jpg\n",
            "[%] File Downloaded !\n",
            "\n",
            "\n",
            "\n",
            "[!!]Indexing page: 3\n",
            "\n",
            "[%] Indexed 11 Images on Page 3.\n",
            "\n",
            "===============================================\n",
            "\n",
            "[%] Downloading Image #25 from https://i.ytimg.com/vi/L6p9n2hDeS8/maxresdefault.jpg\n",
            "[%] File Downloaded !\n",
            "\n",
            "[%] Downloading Image #26 from https://n2.sdlcdn.com/imgs/d/l/q/CSM-Super-500-Full-Size-SDL999932512-1-dcd8c.JPG\n",
            "[%] File Downloaded !\n",
            "\n",
            "[%] Downloading Image #27 from https://qph.fs.quoracdn.net/main-qimg-4df17e5d5fcbcab4e51a02b632442b84\n",
            "[%] File Downloaded !\n",
            "\n",
            "[%] Downloading Image #28 from https://n2.sdlcdn.com/imgs/i/z/e/Ceat-Full-Size-Popular-Willow-SDL615459276-1-dde9b.jpg\n",
            "[%] File Downloaded !\n",
            "\n",
            "[%] Downloading Image #29 from https://i.ytimg.com/vi/cMfc2d-yPw4/maxresdefault.jpg\n",
            "[%] File Downloaded !\n",
            "\n",
            "[%] Downloading Image #30 from https://i.ytimg.com/vi/wI7u7UH0Zqs/maxresdefault.jpg\n",
            "[%] File Downloaded !\n",
            "\n",
            "\n",
            "\n",
            "[%] Done. Downloaded 30 images.\n",
            "\n",
            "===============================================\n",
            "\n"
          ],
          "name": "stdout"
        }
      ]
    },
    {
      "cell_type": "code",
      "metadata": {
        "colab": {
          "base_uri": "https://localhost:8080/"
        },
        "id": "txC-RKittnvr",
        "outputId": "f1c92d12-9183-47cb-bb0a-ddeed89f5af2"
      },
      "source": [
        "downloader.download(\"apples\",limit=30,output_dir='images',adult_filter_off=True)"
      ],
      "execution_count": 4,
      "outputs": [
        {
          "output_type": "stream",
          "text": [
            "\n",
            "\n",
            "[!!]Indexing page: 1\n",
            "\n",
            "[%] Indexed 12 Images on Page 1.\n",
            "\n",
            "===============================================\n",
            "\n",
            "[%] Downloading Image #1 from https://c.stocksy.com/a/AfK600/z9/1509400.jpg\n",
            "[%] File Downloaded !\n",
            "\n",
            "[%] Downloading Image #2 from http://images.traditionalhome.mdpcdn.com/sites/traditionalhome.com/files/styles/facebook_og_image/public/slide/102090576.jpg?itok=Nl5tgnGd\n",
            "[%] File Downloaded !\n",
            "\n",
            "[%] Downloading Image #3 from https://www.himisspuff.com/wp-content/uploads/2016/08/green-apples-wedding-centerpiece.jpg\n",
            "[%] File Downloaded !\n",
            "\n",
            "[%] Downloading Image #4 from https://www.applepiemag.com/wp-content/uploads/anastasia_applepiemag_03.jpg\n",
            "[%] File Downloaded !\n",
            "\n",
            "[%] Downloading Image #5 from http://www.diytomake.com/wp-content/uploads/2015/10/Red-Velvet-Halloween-Cake.jpg\n",
            "[%] File Downloaded !\n",
            "\n",
            "[%] Downloading Image #6 from http://mantitlement.com/wp-content/uploads/2015/12/big-apple-bourbon-feature.jpg\n",
            "[%] File Downloaded !\n",
            "\n",
            "[%] Downloading Image #7 from https://www.unrivaledkitch.com/wp-content/uploads/2014/09/001-768x1024.jpg\n",
            "[%] File Downloaded !\n",
            "\n",
            "[%] Downloading Image #8 from https://4.bp.blogspot.com/-Q0YYuOpVP2s/V4M8jDyFI7I/AAAAAAAAC1s/5UAT5KTd6h4d6lKQVM07YaEscFW1aiIPQCKgB/s1600/8web.jpg\n",
            "[%] File Downloaded !\n",
            "\n",
            "[%] Downloading Image #9 from http://pizzazzerie.com/wp-content/uploads/2015/09/apple-of-my-eye-bridal-shower-7.jpg\n",
            "[%] File Downloaded !\n",
            "\n",
            "[%] Downloading Image #10 from https://germanculture.com.ua/wp-content/uploads/2015/11/Christmas-Tree2.jpg\n",
            "[%] File Downloaded !\n",
            "\n",
            "[%] Downloading Image #11 from http://christmastreedecoratingideas.balsamhill.com/wp-content/uploads/2014/11/unnamed4.jpg\n",
            "[%] File Downloaded !\n",
            "\n",
            "[%] Downloading Image #12 from http://pizzazzerie.com/wp-content/uploads/2015/09/apple-of-my-eye-bridal-shower-2.jpg\n",
            "[%] File Downloaded !\n",
            "\n",
            "\n",
            "\n",
            "[!!]Indexing page: 2\n",
            "\n",
            "[%] Indexed 12 Images on Page 2.\n",
            "\n",
            "===============================================\n",
            "\n",
            "[%] Downloading Image #13 from https://c.stocksy.com/a/AfK600/z9/1509400.jpg\n",
            "[%] File Downloaded !\n",
            "\n",
            "[%] Downloading Image #14 from http://images.traditionalhome.mdpcdn.com/sites/traditionalhome.com/files/styles/facebook_og_image/public/slide/102090576.jpg?itok=Nl5tgnGd\n",
            "[%] File Downloaded !\n",
            "\n",
            "[%] Downloading Image #15 from https://www.himisspuff.com/wp-content/uploads/2016/08/green-apples-wedding-centerpiece.jpg\n",
            "[%] File Downloaded !\n",
            "\n",
            "[%] Downloading Image #16 from https://www.applepiemag.com/wp-content/uploads/anastasia_applepiemag_03.jpg\n",
            "[%] File Downloaded !\n",
            "\n",
            "[%] Downloading Image #17 from http://www.diytomake.com/wp-content/uploads/2015/10/Red-Velvet-Halloween-Cake.jpg\n",
            "[%] File Downloaded !\n",
            "\n",
            "[%] Downloading Image #18 from http://mantitlement.com/wp-content/uploads/2015/12/big-apple-bourbon-feature.jpg\n",
            "[%] File Downloaded !\n",
            "\n",
            "[%] Downloading Image #19 from https://www.unrivaledkitch.com/wp-content/uploads/2014/09/001-768x1024.jpg\n",
            "[%] File Downloaded !\n",
            "\n",
            "[%] Downloading Image #20 from https://4.bp.blogspot.com/-Q0YYuOpVP2s/V4M8jDyFI7I/AAAAAAAAC1s/5UAT5KTd6h4d6lKQVM07YaEscFW1aiIPQCKgB/s1600/8web.jpg\n",
            "[%] File Downloaded !\n",
            "\n",
            "[%] Downloading Image #21 from http://pizzazzerie.com/wp-content/uploads/2015/09/apple-of-my-eye-bridal-shower-7.jpg\n",
            "[%] File Downloaded !\n",
            "\n",
            "[%] Downloading Image #22 from https://germanculture.com.ua/wp-content/uploads/2015/11/Christmas-Tree2.jpg\n",
            "[%] File Downloaded !\n",
            "\n",
            "[%] Downloading Image #23 from http://christmastreedecoratingideas.balsamhill.com/wp-content/uploads/2014/11/unnamed4.jpg\n",
            "[%] File Downloaded !\n",
            "\n",
            "[%] Downloading Image #24 from http://pizzazzerie.com/wp-content/uploads/2015/09/apple-of-my-eye-bridal-shower-2.jpg\n",
            "[%] File Downloaded !\n",
            "\n",
            "\n",
            "\n",
            "[!!]Indexing page: 3\n",
            "\n",
            "[%] Indexed 11 Images on Page 3.\n",
            "\n",
            "===============================================\n",
            "\n",
            "[%] Downloading Image #25 from https://www.himisspuff.com/wp-content/uploads/2016/08/green-apples-wedding-centerpiece.jpg\n",
            "[%] File Downloaded !\n",
            "\n",
            "[%] Downloading Image #26 from http://mantitlement.com/wp-content/uploads/2015/12/big-apple-bourbon-feature.jpg\n",
            "[%] File Downloaded !\n",
            "\n",
            "[%] Downloading Image #27 from http://images.traditionalhome.mdpcdn.com/sites/traditionalhome.com/files/styles/facebook_og_image/public/slide/102090576.jpg?itok=Nl5tgnGd\n",
            "[%] File Downloaded !\n",
            "\n",
            "[%] Downloading Image #28 from http://pizzazzerie.com/wp-content/uploads/2015/09/apple-of-my-eye-bridal-shower-7.jpg\n",
            "[%] File Downloaded !\n",
            "\n",
            "[%] Downloading Image #29 from http://christmastreedecoratingideas.balsamhill.com/wp-content/uploads/2014/11/unnamed4.jpg\n",
            "[%] File Downloaded !\n",
            "\n",
            "[%] Downloading Image #30 from http://pizzazzerie.com/wp-content/uploads/2015/09/apple-of-my-eye-bridal-shower-2.jpg\n",
            "[%] File Downloaded !\n",
            "\n",
            "\n",
            "\n",
            "[%] Done. Downloaded 30 images.\n",
            "\n",
            "===============================================\n",
            "\n"
          ],
          "name": "stdout"
        }
      ]
    },
    {
      "cell_type": "code",
      "metadata": {
        "colab": {
          "base_uri": "https://localhost:8080/"
        },
        "id": "d8afx8Srt5RY",
        "outputId": "50fb70c5-d0e0-41f3-9b53-e75af2f9c64c"
      },
      "source": [
        "downloader.download(\"tigers\",limit=30,output_dir='images',adult_filter_off=True)"
      ],
      "execution_count": 5,
      "outputs": [
        {
          "output_type": "stream",
          "text": [
            "\n",
            "\n",
            "[!!]Indexing page: 1\n",
            "\n",
            "[%] Indexed 12 Images on Page 1.\n",
            "\n",
            "===============================================\n",
            "\n",
            "[%] Downloading Image #1 from https://eia-international.org/wp-content/uploads/Male-tiger-T-42-40531.jpg\n",
            "[%] File Downloaded !\n",
            "\n",
            "[%] Downloading Image #2 from https://www.hdwallpapers.in/download/ranthambore_tiger_reserve-1920x1080.jpg\n",
            "[%] File Downloaded !\n",
            "\n",
            "[%] Downloading Image #3 from https://www.hdwallpapers.in/download/tiger_4k_2-1920x1080.jpg\n",
            "[%] File Downloaded !\n",
            "\n",
            "[%] Downloading Image #4 from https://www.hdwallpapers.in/download/wild_tiger-1366x768.jpg\n",
            "[%] File Downloaded !\n",
            "\n",
            "[%] Downloading Image #5 from https://tranquilmonkey.com/wp-content/uploads/2017/02/majestic-bengal-cat-thor-5.jpg\n",
            "[%] File Downloaded !\n",
            "\n",
            "[%] Downloading Image #6 from https://www.hdwallpapers.in/download/snow_blue_eye_leopard-1920x1200.jpg\n",
            "[%] File Downloaded !\n",
            "\n",
            "[%] Downloading Image #7 from http://armytigers.com/sites/default/files/imagecache/explore_carousel_image/artefacts/grenadier-cap-01.jpg\n",
            "[%] File Downloaded !\n",
            "\n",
            "[%] Downloading Image #8 from http://walkthewilderness.net/wp-content/uploads/2012/05/D+6461.jpg\n",
            "[%] File Downloaded !\n",
            "\n",
            "[%] Downloading Image #9 from http://xahlee.org/Periodic_dosage_dir/las_vegas/pixra/x2/mirage/DSCN0602-m.jpg\n",
            "[Error]Invalid image, not saving http://xahlee.org/Periodic_dosage_dir/las_vegas/pixra/x2/mirage/DSCN0602-m.jpg\n",
            "\n",
            "[!] Issue getting: http://xahlee.org/Periodic_dosage_dir/las_vegas/pixra/x2/mirage/DSCN0602-m.jpg\n",
            "[!] Error:: No active exception to reraise\n",
            "[%] Downloading Image #9 from https://www.warrelics.eu/forum/attachments/after-battle/848973d1433674936t-nazi-eagles-berlin-image.jpg\n",
            "[%] File Downloaded !\n",
            "\n",
            "[%] Downloading Image #10 from https://www.warrelics.eu/forum/attachments/historical-figurines-scale-models/583034d1381935298-tamiya-1-16-scale-erwin-rommel-figure-rk4.jpg\n",
            "[%] File Downloaded !\n",
            "\n",
            "[%] Downloading Image #11 from http://thefw.com/files/2012/10/tumblr_m8352mQzUM1ru0wdoo1_500-e1350499823866.jpg\n",
            "[%] File Downloaded !\n",
            "\n",
            "\n",
            "\n",
            "[!!]Indexing page: 2\n",
            "\n",
            "[%] Indexed 12 Images on Page 2.\n",
            "\n",
            "===============================================\n",
            "\n",
            "[%] Downloading Image #12 from https://eia-international.org/wp-content/uploads/Male-tiger-T-42-40531.jpg\n",
            "[%] File Downloaded !\n",
            "\n",
            "[%] Downloading Image #13 from https://www.hdwallpapers.in/download/ranthambore_tiger_reserve-1920x1080.jpg\n",
            "[%] File Downloaded !\n",
            "\n",
            "[%] Downloading Image #14 from https://www.hdwallpapers.in/download/tiger_4k_2-1920x1080.jpg\n",
            "[%] File Downloaded !\n",
            "\n",
            "[%] Downloading Image #15 from https://www.hdwallpapers.in/download/wild_tiger-1366x768.jpg\n",
            "[%] File Downloaded !\n",
            "\n",
            "[%] Downloading Image #16 from https://tranquilmonkey.com/wp-content/uploads/2017/02/majestic-bengal-cat-thor-5.jpg\n",
            "[%] File Downloaded !\n",
            "\n",
            "[%] Downloading Image #17 from https://www.hdwallpapers.in/download/snow_blue_eye_leopard-1920x1200.jpg\n",
            "[%] File Downloaded !\n",
            "\n",
            "[%] Downloading Image #18 from http://armytigers.com/sites/default/files/imagecache/explore_carousel_image/artefacts/grenadier-cap-01.jpg\n",
            "[%] File Downloaded !\n",
            "\n",
            "[%] Downloading Image #19 from http://walkthewilderness.net/wp-content/uploads/2012/05/D+6461.jpg\n",
            "[%] File Downloaded !\n",
            "\n",
            "[%] Downloading Image #20 from http://xahlee.org/Periodic_dosage_dir/las_vegas/pixra/x2/mirage/DSCN0602-m.jpg\n",
            "[Error]Invalid image, not saving http://xahlee.org/Periodic_dosage_dir/las_vegas/pixra/x2/mirage/DSCN0602-m.jpg\n",
            "\n",
            "[!] Issue getting: http://xahlee.org/Periodic_dosage_dir/las_vegas/pixra/x2/mirage/DSCN0602-m.jpg\n",
            "[!] Error:: No active exception to reraise\n",
            "[%] Downloading Image #20 from https://www.warrelics.eu/forum/attachments/after-battle/848973d1433674936t-nazi-eagles-berlin-image.jpg\n",
            "[%] File Downloaded !\n",
            "\n",
            "[%] Downloading Image #21 from https://www.warrelics.eu/forum/attachments/historical-figurines-scale-models/583034d1381935298-tamiya-1-16-scale-erwin-rommel-figure-rk4.jpg\n",
            "[%] File Downloaded !\n",
            "\n",
            "[%] Downloading Image #22 from http://thefw.com/files/2012/10/tumblr_m8352mQzUM1ru0wdoo1_500-e1350499823866.jpg\n",
            "[%] File Downloaded !\n",
            "\n",
            "\n",
            "\n",
            "[!!]Indexing page: 3\n",
            "\n",
            "[%] Indexed 11 Images on Page 3.\n",
            "\n",
            "===============================================\n",
            "\n",
            "[%] Downloading Image #23 from https://www.hdwallpapers.in/download/ranthambore_tiger_reserve-1920x1080.jpg\n",
            "[%] File Downloaded !\n",
            "\n",
            "[%] Downloading Image #24 from https://www.hdwallpapers.in/download/tiger_4k_2-1920x1080.jpg\n",
            "[%] File Downloaded !\n",
            "\n",
            "[%] Downloading Image #25 from https://www.hdwallpapers.in/download/wild_tiger-1366x768.jpg\n",
            "[%] File Downloaded !\n",
            "\n",
            "[%] Downloading Image #26 from https://tranquilmonkey.com/wp-content/uploads/2017/02/majestic-bengal-cat-thor-5.jpg\n",
            "[%] File Downloaded !\n",
            "\n",
            "[%] Downloading Image #27 from https://www.hdwallpapers.in/download/snow_blue_eye_leopard-1920x1200.jpg\n",
            "[%] File Downloaded !\n",
            "\n",
            "[%] Downloading Image #28 from http://armytigers.com/sites/default/files/imagecache/explore_carousel_image/artefacts/grenadier-cap-01.jpg\n",
            "[%] File Downloaded !\n",
            "\n",
            "[%] Downloading Image #29 from http://walkthewilderness.net/wp-content/uploads/2012/05/D+6461.jpg\n",
            "[%] File Downloaded !\n",
            "\n",
            "[%] Downloading Image #30 from http://xahlee.org/Periodic_dosage_dir/las_vegas/pixra/x2/mirage/DSCN0602-m.jpg\n",
            "[Error]Invalid image, not saving http://xahlee.org/Periodic_dosage_dir/las_vegas/pixra/x2/mirage/DSCN0602-m.jpg\n",
            "\n",
            "[!] Issue getting: http://xahlee.org/Periodic_dosage_dir/las_vegas/pixra/x2/mirage/DSCN0602-m.jpg\n",
            "[!] Error:: No active exception to reraise\n",
            "[%] Downloading Image #30 from https://www.warrelics.eu/forum/attachments/after-battle/848973d1433674936t-nazi-eagles-berlin-image.jpg\n",
            "[%] File Downloaded !\n",
            "\n",
            "\n",
            "\n",
            "[%] Done. Downloaded 30 images.\n",
            "\n",
            "===============================================\n",
            "\n"
          ],
          "name": "stdout"
        }
      ]
    },
    {
      "cell_type": "code",
      "metadata": {
        "id": "_KZKVWKevB7J"
      },
      "source": [
        "#Preprocessing\n",
        "import os\n",
        "import matplotlib.pyplot as plt\n",
        "import numpy as np\n",
        "from skimage.io import imread\n",
        "from skimage.transform import resize\n",
        "\n",
        "target = []\n",
        "images =[]\n",
        "flat_data = []\n",
        "\n",
        "DATADIR = '/content/images'\n",
        "CATEGORIES = ['cricket bats','apples','tigers']\n",
        "\n",
        "for category in CATEGORIES:\n",
        "  class_num = CATEGORIES.index(category)\n",
        "  path = os.path.join(DATADIR,category)\n",
        "  for img in os.listdir(path):\n",
        "    img_array = imread(os.path.join(path,img))\n",
        "    img_resized = resize(img_array,(150,150,3))\n",
        "    flat_data.append(img_resized.flatten())\n",
        "    images.append(img_resized)\n",
        "    target.append(class_num)\n",
        "\n",
        "flat_data = np.array(flat_data)\n",
        "target = np.array(target)\n",
        "images = np.array(images)"
      ],
      "execution_count": 7,
      "outputs": []
    },
    {
      "cell_type": "code",
      "metadata": {
        "colab": {
          "base_uri": "https://localhost:8080/"
        },
        "id": "CA3oJPW1vo6S",
        "outputId": "e6e53e43-86b7-448b-9b12-f40b03843378"
      },
      "source": [
        "flat_data"
      ],
      "execution_count": 8,
      "outputs": [
        {
          "output_type": "execute_result",
          "data": {
            "text/plain": [
              "array([[0.17163399, 0.15986928, 0.10104575, ..., 0.25499346, 0.25882353,\n",
              "        0.21176471],\n",
              "       [0.47562092, 0.58823529, 0.2403268 , ..., 0.70938126, 0.65810458,\n",
              "        0.48650109],\n",
              "       [0.76862745, 0.78039216, 0.74509804, ..., 0.03921569, 0.03529412,\n",
              "        0.07058824],\n",
              "       ...,\n",
              "       [0.70718954, 0.71503268, 0.59694118, ..., 0.16513673, 0.37381752,\n",
              "        0.20849673],\n",
              "       [0.70718954, 0.71503268, 0.59694118, ..., 0.16513673, 0.37381752,\n",
              "        0.20849673],\n",
              "       [0.04705882, 0.04705882, 0.04705882, ..., 0.07294118, 0.07294118,\n",
              "        0.07294118]])"
            ]
          },
          "metadata": {
            "tags": []
          },
          "execution_count": 8
        }
      ]
    },
    {
      "cell_type": "code",
      "metadata": {
        "colab": {
          "base_uri": "https://localhost:8080/"
        },
        "id": "sZhK1t_XvuH_",
        "outputId": "de79472b-c891-4866-d0e3-1657f3b54e81"
      },
      "source": [
        "target"
      ],
      "execution_count": 9,
      "outputs": [
        {
          "output_type": "execute_result",
          "data": {
            "text/plain": [
              "array([0, 0, 0, 0, 0, 0, 0, 0, 0, 0, 0, 0, 0, 0, 0, 0, 0, 0, 0, 0, 0, 0,\n",
              "       0, 0, 0, 0, 0, 0, 0, 0, 1, 1, 1, 1, 1, 1, 1, 1, 1, 1, 1, 1, 1, 1,\n",
              "       1, 1, 1, 1, 1, 1, 1, 1, 1, 1, 1, 1, 1, 1, 1, 1, 2, 2, 2, 2, 2, 2,\n",
              "       2, 2, 2, 2, 2, 2, 2, 2, 2, 2, 2, 2, 2, 2, 2, 2, 2, 2, 2, 2, 2, 2,\n",
              "       2, 2])"
            ]
          },
          "metadata": {
            "tags": []
          },
          "execution_count": 9
        }
      ]
    },
    {
      "cell_type": "code",
      "metadata": {
        "id": "roJIxRBXvxxK"
      },
      "source": [
        "#Splitting data into training and testing \n",
        "from sklearn.model_selection import train_test_split\n",
        "x_train,x_test,y_train,y_test = train_test_split(flat_data,target,test_size=0.3,random_state=109)"
      ],
      "execution_count": 10,
      "outputs": []
    },
    {
      "cell_type": "code",
      "metadata": {
        "colab": {
          "base_uri": "https://localhost:8080/"
        },
        "id": "tTYUFzO6v9aW",
        "outputId": "e41b0978-f589-496c-b0c6-d2a4bc1da5b9"
      },
      "source": [
        "#Appling svm algorithm\n",
        "from sklearn.model_selection import GridSearchCV\n",
        "from sklearn import svm\n",
        "param_grid = [\n",
        "              {'C':[1,10,100,1000],'kernel':['linear']},\n",
        "              {'C':[1,10,100,1000],'gamma':[0.001,0.0001],'kernel':['rbf']},\n",
        "]\n",
        "\n",
        "svc = svm.SVC(probability=True)\n",
        "clf = GridSearchCV(svc,param_grid)\n",
        "clf.fit(x_train,y_train)"
      ],
      "execution_count": 11,
      "outputs": [
        {
          "output_type": "execute_result",
          "data": {
            "text/plain": [
              "GridSearchCV(cv=None, error_score=nan,\n",
              "             estimator=SVC(C=1.0, break_ties=False, cache_size=200,\n",
              "                           class_weight=None, coef0=0.0,\n",
              "                           decision_function_shape='ovr', degree=3,\n",
              "                           gamma='scale', kernel='rbf', max_iter=-1,\n",
              "                           probability=True, random_state=None, shrinking=True,\n",
              "                           tol=0.001, verbose=False),\n",
              "             iid='deprecated', n_jobs=None,\n",
              "             param_grid=[{'C': [1, 10, 100, 1000], 'kernel': ['linear']},\n",
              "                         {'C': [1, 10, 100, 1000], 'gamma': [0.001, 0.0001],\n",
              "                          'kernel': ['rbf']}],\n",
              "             pre_dispatch='2*n_jobs', refit=True, return_train_score=False,\n",
              "             scoring=None, verbose=0)"
            ]
          },
          "metadata": {
            "tags": []
          },
          "execution_count": 11
        }
      ]
    },
    {
      "cell_type": "code",
      "metadata": {
        "colab": {
          "base_uri": "https://localhost:8080/"
        },
        "id": "MpKGasr32wr8",
        "outputId": "9cfde920-7d70-4ac8-fd72-b7a3a8e4f480"
      },
      "source": [
        "y_pred = clf.predict(x_test)\n",
        "y_pred"
      ],
      "execution_count": 12,
      "outputs": [
        {
          "output_type": "execute_result",
          "data": {
            "text/plain": [
              "array([1, 0, 1, 2, 2, 1, 0, 1, 1, 0, 1, 0, 1, 2, 2, 1, 2, 1, 0, 1, 2, 2,\n",
              "       2, 0, 0, 0, 1])"
            ]
          },
          "metadata": {
            "tags": []
          },
          "execution_count": 12
        }
      ]
    },
    {
      "cell_type": "code",
      "metadata": {
        "colab": {
          "base_uri": "https://localhost:8080/"
        },
        "id": "oN8fKwiY25wn",
        "outputId": "adc5d311-8dd7-4902-b323-9cbdd8659181"
      },
      "source": [
        "y_test"
      ],
      "execution_count": 13,
      "outputs": [
        {
          "output_type": "execute_result",
          "data": {
            "text/plain": [
              "array([1, 0, 1, 2, 2, 1, 0, 1, 1, 0, 1, 0, 1, 2, 2, 1, 2, 1, 0, 1, 2, 2,\n",
              "       2, 0, 0, 0, 1])"
            ]
          },
          "metadata": {
            "tags": []
          },
          "execution_count": 13
        }
      ]
    },
    {
      "cell_type": "code",
      "metadata": {
        "id": "Ic5D3j3o28zK"
      },
      "source": [
        "#Testing accuracy of the model\n",
        "from sklearn.metrics import accuracy_score,confusion_matrix"
      ],
      "execution_count": 14,
      "outputs": []
    },
    {
      "cell_type": "code",
      "metadata": {
        "colab": {
          "base_uri": "https://localhost:8080/"
        },
        "id": "4LjSFiB23OaF",
        "outputId": "e4c6712a-673b-4f35-df91-38ede84f02f1"
      },
      "source": [
        "accuracy_score(y_pred,y_test)\n"
      ],
      "execution_count": 16,
      "outputs": [
        {
          "output_type": "execute_result",
          "data": {
            "text/plain": [
              "1.0"
            ]
          },
          "metadata": {
            "tags": []
          },
          "execution_count": 16
        }
      ]
    },
    {
      "cell_type": "code",
      "metadata": {
        "colab": {
          "base_uri": "https://localhost:8080/"
        },
        "id": "qcwzoUYm3WHr",
        "outputId": "1e7a5f3d-4714-4f04-9937-bb193c71d6a1"
      },
      "source": [
        "confusion_matrix(y_pred,y_test)\n"
      ],
      "execution_count": 17,
      "outputs": [
        {
          "output_type": "execute_result",
          "data": {
            "text/plain": [
              "array([[ 8,  0,  0],\n",
              "       [ 0, 11,  0],\n",
              "       [ 0,  0,  8]])"
            ]
          },
          "metadata": {
            "tags": []
          },
          "execution_count": 17
        }
      ]
    },
    {
      "cell_type": "code",
      "metadata": {
        "id": "GFDAes8e3b06"
      },
      "source": [
        "#saving the model using pickle library\n",
        "import pickle\n",
        "pickle.dump(clf,open('img_model.p','wb'))"
      ],
      "execution_count": 18,
      "outputs": []
    },
    {
      "cell_type": "code",
      "metadata": {
        "id": "hzKKZ16B3kQR"
      },
      "source": [
        "model = pickle.load(open('img_model.p','rb'))"
      ],
      "execution_count": 19,
      "outputs": []
    },
    {
      "cell_type": "code",
      "metadata": {
        "colab": {
          "base_uri": "https://localhost:8080/",
          "height": 324
        },
        "id": "MNs_7OyY3nl-",
        "outputId": "6f0ed8d4-b994-4566-a732-c1b3e93cd36c"
      },
      "source": [
        "#testing a brand new image\n",
        "flat_data = []\n",
        "url = input('enter the url')\n",
        "img = imread(url)\n",
        "img_resized = resize(img,(150,150,3))\n",
        "flat_data.append(img_resized.flatten())\n",
        "flat_data = np.array(flat_data)\n",
        "print(img.shape)\n",
        "plt.imshow(img_resized)\n",
        "y_out = model.predict(flat_data)\n",
        "y_out = CATEGORIES[y_out[0]]\n",
        "print(f' PREDICTED OUTPUT: {y_out}')"
      ],
      "execution_count": 20,
      "outputs": [
        {
          "output_type": "stream",
          "text": [
            "enter the urlhttps://st.depositphotos.com/1003272/1632/i/600/depositphotos_16322913-stock-photo-red-apple.jpg\n",
            "(555, 600, 3)\n",
            " PREDICTED OUTPUT: apples\n"
          ],
          "name": "stdout"
        },
        {
          "output_type": "display_data",
          "data": {
            "image/png": "[encoded data removed]",
            "text/plain": [
              "<Figure size 432x288 with 1 Axes>"
            ]
          },
          "metadata": {
            "tags": [],
            "needs_background": "light"
          }
        }
      ]
    }
  ]
}